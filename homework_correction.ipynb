{
 "cells": [
  {
   "cell_type": "markdown",
   "metadata": {},
   "source": [
    " # Homework Corrector\n",
    "\n",
    " This tool works by Vectorising text and running cosine similarity to compare the level of similarity between students' essays\n",
    "\n",
    " Before Checking for Plagiarism between students, this code offers Cleaning the text in the dataframe in case it was scrapped as html documents\n",
    "\n",
    " It also offers the ability to delete stop words to better compare the essays\n",
    "\n",
    " It has the ability to Highlight wrong semantic and grammar in both English and Arabic\n",
    "\n",
    " And lastly we compare all essays together to find similar items helping teachers grade and find plagiarised essays"
   ]
  },
  {
   "cell_type": "markdown",
   "metadata": {},
   "source": [
    "    Importing Libraries"
   ]
  },
  {
   "cell_type": "code",
   "execution_count": 1,
   "metadata": {},
   "outputs": [],
   "source": [
    "import pandas as pd\n",
    "\n",
    "from bs4 import BeautifulSoup\n",
    "\n",
    "import re\n",
    "\n",
    "#arabic correction library\n",
    "from ar_corrector.corrector import Corrector\n",
    "\n",
    "#english correction library\n",
    "import language_tool_python  \n",
    "\n",
    "#Plagiarism Detection Libraries \n",
    "import os\n",
    "from sklearn.feature_extraction.text import TfidfVectorizer\n",
    "from sklearn.metrics.pairwise import cosine_similarity\n",
    "\n",
    "#Stopwords Cleaner Libraries\n",
    "import nltk\n",
    "from nltk.corpus import stopwords\n",
    "from nltk.tokenize import word_tokenize\n"
   ]
  },
  {
   "cell_type": "markdown",
   "metadata": {},
   "source": [
    "    Reading Scraped Articles CSV File"
   ]
  },
  {
   "cell_type": "code",
   "execution_count": 2,
   "metadata": {},
   "outputs": [],
   "source": [
    "articles_files = pd.read_csv('./articles.csv')"
   ]
  },
  {
   "cell_type": "markdown",
   "metadata": {},
   "source": [
    "# EDA"
   ]
  },
  {
   "cell_type": "markdown",
   "metadata": {},
   "source": [
    "## HTML & Foriegn symbols Cleaner"
   ]
  },
  {
   "cell_type": "code",
   "execution_count": 3,
   "metadata": {},
   "outputs": [
    {
     "data": {
      "text/html": [
       "<div>\n",
       "<style scoped>\n",
       "    .dataframe tbody tr th:only-of-type {\n",
       "        vertical-align: middle;\n",
       "    }\n",
       "\n",
       "    .dataframe tbody tr th {\n",
       "        vertical-align: top;\n",
       "    }\n",
       "\n",
       "    .dataframe thead th {\n",
       "        text-align: right;\n",
       "    }\n",
       "</style>\n",
       "<table border=\"1\" class=\"dataframe\">\n",
       "  <thead>\n",
       "    <tr style=\"text-align: right;\">\n",
       "      <th></th>\n",
       "      <th>ArticleId</th>\n",
       "      <th>EncyclopediaId</th>\n",
       "      <th>ArabicTitle</th>\n",
       "      <th>Arabic_title_n_p</th>\n",
       "      <th>EnglishTitle</th>\n",
       "      <th>Intro</th>\n",
       "      <th>Body</th>\n",
       "      <th>ResourceIdCover</th>\n",
       "      <th>CatId</th>\n",
       "      <th>MainCatId</th>\n",
       "      <th>Metadata</th>\n",
       "      <th>IsEditing</th>\n",
       "      <th>dateOfPublication</th>\n",
       "      <th>showed</th>\n",
       "      <th>deleted_at</th>\n",
       "    </tr>\n",
       "  </thead>\n",
       "  <tbody>\n",
       "    <tr>\n",
       "      <th>0</th>\n",
       "      <td>154</td>\n",
       "      <td>12</td>\n",
       "      <td>كتاب البديع لابن المعتز</td>\n",
       "      <td>كتاب البديع لابن المعتز</td>\n",
       "      <td>NaN</td>\n",
       "      <td>&lt;p&gt;كتاب البديع لعبد الله بن المعتزّ (247هـ/861...</td>\n",
       "      <td>{\"paragraphs\":[{\"id\":1,\"Type\":\"intro\",\"Title\":...</td>\n",
       "      <td>NaN</td>\n",
       "      <td>425</td>\n",
       "      <td>356</td>\n",
       "      <td>NaN</td>\n",
       "      <td>0</td>\n",
       "      <td>2010-01-01</td>\n",
       "      <td>1</td>\n",
       "      <td>NaN</td>\n",
       "    </tr>\n",
       "    <tr>\n",
       "      <th>1</th>\n",
       "      <td>159</td>\n",
       "      <td>12</td>\n",
       "      <td>المَثَل السائر لابن الأثير</td>\n",
       "      <td>المثل السائر لابن الاثير</td>\n",
       "      <td>NaN</td>\n",
       "      <td>&lt;p&gt;كتاب المثل السائر لابن الأَثير الكاتب (558-...</td>\n",
       "      <td>{\"paragraphs\":[{\"id\":1,\"Type\":\"intro\",\"Title\":...</td>\n",
       "      <td>NaN</td>\n",
       "      <td>463</td>\n",
       "      <td>356</td>\n",
       "      <td>NaN</td>\n",
       "      <td>0</td>\n",
       "      <td>2010-01-01</td>\n",
       "      <td>1</td>\n",
       "      <td>NaN</td>\n",
       "    </tr>\n",
       "    <tr>\n",
       "      <th>2</th>\n",
       "      <td>165</td>\n",
       "      <td>12</td>\n",
       "      <td>أساتذته</td>\n",
       "      <td>ابن المعتز</td>\n",
       "      <td>NaN</td>\n",
       "      <td>&lt;p&gt;هو أبو العبّاس عبد الله بن المعتزّ بن المتو...</td>\n",
       "      <td>{\"paragraphs\":[{\"id\":1,\"Type\":\"intro\",\"Title\":...</td>\n",
       "      <td>NaN</td>\n",
       "      <td>426</td>\n",
       "      <td>356</td>\n",
       "      <td>NaN</td>\n",
       "      <td>0</td>\n",
       "      <td>2010-01-01</td>\n",
       "      <td>1</td>\n",
       "      <td>NaN</td>\n",
       "    </tr>\n",
       "    <tr>\n",
       "      <th>3</th>\n",
       "      <td>172</td>\n",
       "      <td>12</td>\n",
       "      <td>ابن طَباطَبا (ت 322هـ)</td>\n",
       "      <td>ابن طباطبا (ت 322هـ)</td>\n",
       "      <td>NaN</td>\n",
       "      <td>&lt;p&gt;هو محمد بن أحمد بن محمد بن أحمد بن إسماعيل ...</td>\n",
       "      <td>{\"paragraphs\":[{\"id\":1,\"Type\":\"intro\",\"Title\":...</td>\n",
       "      <td>NaN</td>\n",
       "      <td>434</td>\n",
       "      <td>356</td>\n",
       "      <td>NaN</td>\n",
       "      <td>0</td>\n",
       "      <td>2010-01-01</td>\n",
       "      <td>1</td>\n",
       "      <td>NaN</td>\n",
       "    </tr>\n",
       "    <tr>\n",
       "      <th>4</th>\n",
       "      <td>178</td>\n",
       "      <td>12</td>\n",
       "      <td>ابن الأثير</td>\n",
       "      <td>ابن الاثير</td>\n",
       "      <td>NaN</td>\n",
       "      <td>&lt;p&gt;أبو الفتح نصر الله ضياء الدين بن أبي الكرم ...</td>\n",
       "      <td>{\"paragraphs\":[{\"id\":1,\"Type\":\"intro\",\"Title\":...</td>\n",
       "      <td>NaN</td>\n",
       "      <td>464</td>\n",
       "      <td>356</td>\n",
       "      <td>NaN</td>\n",
       "      <td>0</td>\n",
       "      <td>2010-01-01</td>\n",
       "      <td>1</td>\n",
       "      <td>NaN</td>\n",
       "    </tr>\n",
       "  </tbody>\n",
       "</table>\n",
       "</div>"
      ],
      "text/plain": [
       "   ArticleId  EncyclopediaId                 ArabicTitle  \\\n",
       "0        154              12     كتاب البديع لابن المعتز   \n",
       "1        159              12  المَثَل السائر لابن الأثير   \n",
       "2        165              12                     أساتذته   \n",
       "3        172              12      ابن طَباطَبا (ت 322هـ)   \n",
       "4        178              12                  ابن الأثير   \n",
       "\n",
       "           Arabic_title_n_p EnglishTitle  \\\n",
       "0   كتاب البديع لابن المعتز          NaN   \n",
       "1  المثل السائر لابن الاثير          NaN   \n",
       "2                ابن المعتز          NaN   \n",
       "3      ابن طباطبا (ت 322هـ)          NaN   \n",
       "4                ابن الاثير          NaN   \n",
       "\n",
       "                                               Intro  \\\n",
       "0  <p>كتاب البديع لعبد الله بن المعتزّ (247هـ/861...   \n",
       "1  <p>كتاب المثل السائر لابن الأَثير الكاتب (558-...   \n",
       "2  <p>هو أبو العبّاس عبد الله بن المعتزّ بن المتو...   \n",
       "3  <p>هو محمد بن أحمد بن محمد بن أحمد بن إسماعيل ...   \n",
       "4  <p>أبو الفتح نصر الله ضياء الدين بن أبي الكرم ...   \n",
       "\n",
       "                                                Body  ResourceIdCover  CatId  \\\n",
       "0  {\"paragraphs\":[{\"id\":1,\"Type\":\"intro\",\"Title\":...              NaN    425   \n",
       "1  {\"paragraphs\":[{\"id\":1,\"Type\":\"intro\",\"Title\":...              NaN    463   \n",
       "2  {\"paragraphs\":[{\"id\":1,\"Type\":\"intro\",\"Title\":...              NaN    426   \n",
       "3  {\"paragraphs\":[{\"id\":1,\"Type\":\"intro\",\"Title\":...              NaN    434   \n",
       "4  {\"paragraphs\":[{\"id\":1,\"Type\":\"intro\",\"Title\":...              NaN    464   \n",
       "\n",
       "   MainCatId  Metadata  IsEditing dateOfPublication  showed  deleted_at  \n",
       "0        356       NaN          0        2010-01-01       1         NaN  \n",
       "1        356       NaN          0        2010-01-01       1         NaN  \n",
       "2        356       NaN          0        2010-01-01       1         NaN  \n",
       "3        356       NaN          0        2010-01-01       1         NaN  \n",
       "4        356       NaN          0        2010-01-01       1         NaN  "
      ]
     },
     "execution_count": 3,
     "metadata": {},
     "output_type": "execute_result"
    }
   ],
   "source": [
    "articles_files.head()"
   ]
  },
  {
   "cell_type": "code",
   "execution_count": 4,
   "metadata": {},
   "outputs": [
    {
     "data": {
      "text/html": [
       "<div>\n",
       "<style scoped>\n",
       "    .dataframe tbody tr th:only-of-type {\n",
       "        vertical-align: middle;\n",
       "    }\n",
       "\n",
       "    .dataframe tbody tr th {\n",
       "        vertical-align: top;\n",
       "    }\n",
       "\n",
       "    .dataframe thead th {\n",
       "        text-align: right;\n",
       "    }\n",
       "</style>\n",
       "<table border=\"1\" class=\"dataframe\">\n",
       "  <thead>\n",
       "    <tr style=\"text-align: right;\">\n",
       "      <th></th>\n",
       "      <th>ArticleId</th>\n",
       "      <th>ArabicTitle</th>\n",
       "      <th>Intro</th>\n",
       "      <th>Body</th>\n",
       "    </tr>\n",
       "  </thead>\n",
       "  <tbody>\n",
       "    <tr>\n",
       "      <th>0</th>\n",
       "      <td>154</td>\n",
       "      <td>كتاب البديع لابن المعتز</td>\n",
       "      <td>&lt;p&gt;كتاب البديع لعبد الله بن المعتزّ (247هـ/861...</td>\n",
       "      <td>{\"paragraphs\":[{\"id\":1,\"Type\":\"intro\",\"Title\":...</td>\n",
       "    </tr>\n",
       "    <tr>\n",
       "      <th>1</th>\n",
       "      <td>159</td>\n",
       "      <td>المَثَل السائر لابن الأثير</td>\n",
       "      <td>&lt;p&gt;كتاب المثل السائر لابن الأَثير الكاتب (558-...</td>\n",
       "      <td>{\"paragraphs\":[{\"id\":1,\"Type\":\"intro\",\"Title\":...</td>\n",
       "    </tr>\n",
       "    <tr>\n",
       "      <th>2</th>\n",
       "      <td>165</td>\n",
       "      <td>أساتذته</td>\n",
       "      <td>&lt;p&gt;هو أبو العبّاس عبد الله بن المعتزّ بن المتو...</td>\n",
       "      <td>{\"paragraphs\":[{\"id\":1,\"Type\":\"intro\",\"Title\":...</td>\n",
       "    </tr>\n",
       "    <tr>\n",
       "      <th>3</th>\n",
       "      <td>172</td>\n",
       "      <td>ابن طَباطَبا (ت 322هـ)</td>\n",
       "      <td>&lt;p&gt;هو محمد بن أحمد بن محمد بن أحمد بن إسماعيل ...</td>\n",
       "      <td>{\"paragraphs\":[{\"id\":1,\"Type\":\"intro\",\"Title\":...</td>\n",
       "    </tr>\n",
       "    <tr>\n",
       "      <th>4</th>\n",
       "      <td>178</td>\n",
       "      <td>ابن الأثير</td>\n",
       "      <td>&lt;p&gt;أبو الفتح نصر الله ضياء الدين بن أبي الكرم ...</td>\n",
       "      <td>{\"paragraphs\":[{\"id\":1,\"Type\":\"intro\",\"Title\":...</td>\n",
       "    </tr>\n",
       "  </tbody>\n",
       "</table>\n",
       "</div>"
      ],
      "text/plain": [
       "   ArticleId                 ArabicTitle  \\\n",
       "0        154     كتاب البديع لابن المعتز   \n",
       "1        159  المَثَل السائر لابن الأثير   \n",
       "2        165                     أساتذته   \n",
       "3        172      ابن طَباطَبا (ت 322هـ)   \n",
       "4        178                  ابن الأثير   \n",
       "\n",
       "                                               Intro  \\\n",
       "0  <p>كتاب البديع لعبد الله بن المعتزّ (247هـ/861...   \n",
       "1  <p>كتاب المثل السائر لابن الأَثير الكاتب (558-...   \n",
       "2  <p>هو أبو العبّاس عبد الله بن المعتزّ بن المتو...   \n",
       "3  <p>هو محمد بن أحمد بن محمد بن أحمد بن إسماعيل ...   \n",
       "4  <p>أبو الفتح نصر الله ضياء الدين بن أبي الكرم ...   \n",
       "\n",
       "                                                Body  \n",
       "0  {\"paragraphs\":[{\"id\":1,\"Type\":\"intro\",\"Title\":...  \n",
       "1  {\"paragraphs\":[{\"id\":1,\"Type\":\"intro\",\"Title\":...  \n",
       "2  {\"paragraphs\":[{\"id\":1,\"Type\":\"intro\",\"Title\":...  \n",
       "3  {\"paragraphs\":[{\"id\":1,\"Type\":\"intro\",\"Title\":...  \n",
       "4  {\"paragraphs\":[{\"id\":1,\"Type\":\"intro\",\"Title\":...  "
      ]
     },
     "execution_count": 4,
     "metadata": {},
     "output_type": "execute_result"
    }
   ],
   "source": [
    "articles_files.drop(columns=['EncyclopediaId', 'Arabic_title_n_p', 'EnglishTitle', 'ResourceIdCover', 'Metadata', 'IsEditing', 'dateOfPublication', 'showed', 'CatId', 'MainCatId', 'deleted_at'], inplace = True)\n",
    "articles_files.head()"
   ]
  },
  {
   "cell_type": "code",
   "execution_count": 5,
   "metadata": {},
   "outputs": [
    {
     "name": "stdout",
     "output_type": "stream",
     "text": [
      "<class 'pandas.core.frame.DataFrame'>\n",
      "RangeIndex: 4392 entries, 0 to 4391\n",
      "Data columns (total 4 columns):\n",
      " #   Column       Non-Null Count  Dtype \n",
      "---  ------       --------------  ----- \n",
      " 0   ArticleId    4392 non-null   int64 \n",
      " 1   ArabicTitle  4392 non-null   object\n",
      " 2   Intro        4388 non-null   object\n",
      " 3   Body         4392 non-null   object\n",
      "dtypes: int64(1), object(3)\n",
      "memory usage: 137.4+ KB\n"
     ]
    }
   ],
   "source": [
    "articles_files.info()"
   ]
  },
  {
   "cell_type": "markdown",
   "metadata": {},
   "source": [
    "    Removing HTML Tags and non Arabic symbols"
   ]
  },
  {
   "cell_type": "code",
   "execution_count": 6,
   "metadata": {},
   "outputs": [],
   "source": [
    "\n",
    "def remove_non_arabic_characters(data_frame: pd.DataFrame, column_name: str):\n",
    "\n",
    "    data_frame[column_name] = data_frame[column_name].apply(lambda text: re.sub(r'([@A-Za-z0-9_ـــــــــــــ]+)|[^\\w\\s]|#|http\\S+', '', str(text)))\n"
   ]
  },
  {
   "cell_type": "code",
   "execution_count": 7,
   "metadata": {},
   "outputs": [],
   "source": [
    "remove_non_arabic_characters(articles_files, 'Body')\n",
    "remove_non_arabic_characters(articles_files, 'Intro')"
   ]
  },
  {
   "cell_type": "code",
   "execution_count": 8,
   "metadata": {},
   "outputs": [
    {
     "data": {
      "text/html": [
       "<div>\n",
       "<style scoped>\n",
       "    .dataframe tbody tr th:only-of-type {\n",
       "        vertical-align: middle;\n",
       "    }\n",
       "\n",
       "    .dataframe tbody tr th {\n",
       "        vertical-align: top;\n",
       "    }\n",
       "\n",
       "    .dataframe thead th {\n",
       "        text-align: right;\n",
       "    }\n",
       "</style>\n",
       "<table border=\"1\" class=\"dataframe\">\n",
       "  <thead>\n",
       "    <tr style=\"text-align: right;\">\n",
       "      <th></th>\n",
       "      <th>ArticleId</th>\n",
       "      <th>ArabicTitle</th>\n",
       "      <th>Intro</th>\n",
       "      <th>Body</th>\n",
       "    </tr>\n",
       "  </thead>\n",
       "  <tbody>\n",
       "    <tr>\n",
       "      <th>0</th>\n",
       "      <td>154</td>\n",
       "      <td>كتاب البديع لابن المعتز</td>\n",
       "      <td>كتاب البديع لعبد الله بن المعتز هم هم  ويقع في...</td>\n",
       "      <td>كتاب البديع لابن المعتزكتاب البديع لابن المعتز...</td>\n",
       "    </tr>\n",
       "    <tr>\n",
       "      <th>1</th>\n",
       "      <td>159</td>\n",
       "      <td>المَثَل السائر لابن الأثير</td>\n",
       "      <td>كتاب المثل السائر لابن الأثير الكاتب ه م من أه...</td>\n",
       "      <td>المثل السائر لابن الأثيرالمثل السائر لابن الاث...</td>\n",
       "    </tr>\n",
       "    <tr>\n",
       "      <th>2</th>\n",
       "      <td>165</td>\n",
       "      <td>أساتذته</td>\n",
       "      <td>هو أبو العباس عبد الله بن المعتز بن المتوكل بن...</td>\n",
       "      <td>أساتذتهابن المعتزهو أبو العباس عبد الله بن الم...</td>\n",
       "    </tr>\n",
       "    <tr>\n",
       "      <th>3</th>\n",
       "      <td>172</td>\n",
       "      <td>ابن طَباطَبا (ت 322هـ)</td>\n",
       "      <td>هو محمد بن أحمد بن محمد بن أحمد بن إسماعيل بن ...</td>\n",
       "      <td>ابن طباطبا ت هابن طباطبا ت ههو محمد بن أحمد بن...</td>\n",
       "    </tr>\n",
       "    <tr>\n",
       "      <th>4</th>\n",
       "      <td>178</td>\n",
       "      <td>ابن الأثير</td>\n",
       "      <td>أبو الفتح نصر الله ضياء الدين بن أبي الكرم محم...</td>\n",
       "      <td>ابن الأثيرابن الاثيرأبو الفتح نصر الله ضياء ال...</td>\n",
       "    </tr>\n",
       "  </tbody>\n",
       "</table>\n",
       "</div>"
      ],
      "text/plain": [
       "   ArticleId                 ArabicTitle  \\\n",
       "0        154     كتاب البديع لابن المعتز   \n",
       "1        159  المَثَل السائر لابن الأثير   \n",
       "2        165                     أساتذته   \n",
       "3        172      ابن طَباطَبا (ت 322هـ)   \n",
       "4        178                  ابن الأثير   \n",
       "\n",
       "                                               Intro  \\\n",
       "0  كتاب البديع لعبد الله بن المعتز هم هم  ويقع في...   \n",
       "1  كتاب المثل السائر لابن الأثير الكاتب ه م من أه...   \n",
       "2  هو أبو العباس عبد الله بن المعتز بن المتوكل بن...   \n",
       "3  هو محمد بن أحمد بن محمد بن أحمد بن إسماعيل بن ...   \n",
       "4  أبو الفتح نصر الله ضياء الدين بن أبي الكرم محم...   \n",
       "\n",
       "                                                Body  \n",
       "0  كتاب البديع لابن المعتزكتاب البديع لابن المعتز...  \n",
       "1  المثل السائر لابن الأثيرالمثل السائر لابن الاث...  \n",
       "2  أساتذتهابن المعتزهو أبو العباس عبد الله بن الم...  \n",
       "3  ابن طباطبا ت هابن طباطبا ت ههو محمد بن أحمد بن...  \n",
       "4  ابن الأثيرابن الاثيرأبو الفتح نصر الله ضياء ال...  "
      ]
     },
     "execution_count": 8,
     "metadata": {},
     "output_type": "execute_result"
    }
   ],
   "source": [
    "articles_files.head()"
   ]
  },
  {
   "cell_type": "code",
   "execution_count": 9,
   "metadata": {},
   "outputs": [],
   "source": [
    "# articles_files['Intro'] = articles_files['Intro'].str.replace(r'<[^<>]*>', '', regex=True)"
   ]
  },
  {
   "cell_type": "markdown",
   "metadata": {},
   "source": [
    " ## StopWords Cleaner"
   ]
  },
  {
   "cell_type": "markdown",
   "metadata": {},
   "source": [
    "    Check Arabic Stopwords"
   ]
  },
  {
   "cell_type": "code",
   "execution_count": 10,
   "metadata": {},
   "outputs": [
    {
     "name": "stdout",
     "output_type": "stream",
     "text": [
      "['ثمنمئة', 'تسعمئة', 'مائة', 'ثلاثمائة', 'أربعمائة', 'خمسمائة', 'ستمائة', 'سبعمائة', 'ثمانمئة', 'تسعمائة', 'عشرون', 'ثلاثون', 'اربعون', 'خمسون', 'ستون', 'سبعون', 'ثمانون', 'تسعون', 'عشرين', 'ثلاثين', 'اربعين', 'خمسين', 'ستين', 'سبعين', 'ثمانين', 'تسعين', 'بضع', 'نيف', 'أجمع', 'جميع', 'عامة', 'عين', 'نفس', 'لا سيما', 'أصلا', 'أهلا', 'أيضا', 'بؤسا', 'بعدا', 'بغتة', 'تعسا', 'حقا', 'حمدا', 'خلافا', 'خاصة', 'دواليك', 'سحقا', 'سرا', 'سمعا', 'صبرا', 'صدقا', 'صراحة', 'طرا', 'عجبا', 'عيانا', 'غالبا', 'فرادى', 'فضلا', 'قاطبة', 'كثيرا']\n"
     ]
    }
   ],
   "source": [
    "print (stopwords.words('arabic') [620:680])"
   ]
  },
  {
   "cell_type": "markdown",
   "metadata": {},
   "source": [
    "    Define removing stopwords from string function"
   ]
  },
  {
   "cell_type": "code",
   "execution_count": 11,
   "metadata": {},
   "outputs": [],
   "source": [
    "def remove_arabic_stopwords_from_string(text_string: str):\n",
    "    \n",
    "    arabic_stopwords = stopwords.words('arabic')\n",
    "\n",
    "    words = text_string.split(' ')\n",
    "\n",
    "    cleaned_words = [word for word in words if word not in arabic_stopwords]\n",
    "\n",
    "    clean_text = ' '.join(cleaned_words)\n",
    "\n",
    "    return clean_text"
   ]
  },
  {
   "cell_type": "code",
   "execution_count": 12,
   "metadata": {},
   "outputs": [
    {
     "name": "stdout",
     "output_type": "stream",
     "text": [
      "الولد الى التفاحة جائع صغير\n"
     ]
    }
   ],
   "source": [
    "corpus = remove_arabic_stopwords_from_string('ذهب الولد الى التفاحة و هو جائع و صغير ثلاثين خاصة')\n",
    "\n",
    "print(corpus)"
   ]
  },
  {
   "cell_type": "code",
   "execution_count": 13,
   "metadata": {},
   "outputs": [],
   "source": [
    "# from nltk.corpus import stopwords\n",
    "# stop = stopwords.words('arabic')\n",
    "\n",
    "# test = articles_files\n",
    "\n",
    "# test['Body'] = test['Body'].astype('string', errors='ignore')\n",
    "\n",
    "# test['Body_without_stopwords'] = test['Body'].apply(lambda x: ' '.join([word for word in x.split() if word not in (stop)]))\n",
    "\n",
    "\n",
    "# test.head()"
   ]
  },
  {
   "cell_type": "code",
   "execution_count": 14,
   "metadata": {},
   "outputs": [],
   "source": [
    "def remove_arabic_stopwords_from_datafram(data_frame: pd.DataFrame, column_name: str, cleaned_column_name:str):\n",
    "\n",
    "    arabic_stopwords = stopwords.words('arabic')\n",
    "    \n",
    "    test = data_frame\n",
    "\n",
    "    test[column_name] = test[column_name].astype('string', errors='ignore')\n",
    "\n",
    "    test[cleaned_column_name] = test[column_name].apply(lambda x: ' '.join([word for word in x.split() if word not in (arabic_stopwords)]))"
   ]
  },
  {
   "cell_type": "code",
   "execution_count": 15,
   "metadata": {},
   "outputs": [],
   "source": [
    "remove_arabic_stopwords_from_datafram(articles_files, 'Body', 'cleaned_body')\n",
    "remove_arabic_stopwords_from_datafram(articles_files, 'Intro', 'cleaned_intro')"
   ]
  },
  {
   "cell_type": "code",
   "execution_count": 16,
   "metadata": {},
   "outputs": [
    {
     "data": {
      "text/html": [
       "<div>\n",
       "<style scoped>\n",
       "    .dataframe tbody tr th:only-of-type {\n",
       "        vertical-align: middle;\n",
       "    }\n",
       "\n",
       "    .dataframe tbody tr th {\n",
       "        vertical-align: top;\n",
       "    }\n",
       "\n",
       "    .dataframe thead th {\n",
       "        text-align: right;\n",
       "    }\n",
       "</style>\n",
       "<table border=\"1\" class=\"dataframe\">\n",
       "  <thead>\n",
       "    <tr style=\"text-align: right;\">\n",
       "      <th></th>\n",
       "      <th>ArticleId</th>\n",
       "      <th>ArabicTitle</th>\n",
       "      <th>Intro</th>\n",
       "      <th>Body</th>\n",
       "      <th>cleaned_body</th>\n",
       "      <th>cleaned_intro</th>\n",
       "    </tr>\n",
       "  </thead>\n",
       "  <tbody>\n",
       "    <tr>\n",
       "      <th>0</th>\n",
       "      <td>154</td>\n",
       "      <td>كتاب البديع لابن المعتز</td>\n",
       "      <td>كتاب البديع لعبد الله بن المعتز هم هم  ويقع في...</td>\n",
       "      <td>كتاب البديع لابن المعتزكتاب البديع لابن المعتز...</td>\n",
       "      <td>كتاب البديع لابن المعتزكتاب البديع لابن المعتز...</td>\n",
       "      <td>كتاب البديع لعبد الله بن المعتز ويقع صفحة مذيل...</td>\n",
       "    </tr>\n",
       "    <tr>\n",
       "      <th>1</th>\n",
       "      <td>159</td>\n",
       "      <td>المَثَل السائر لابن الأثير</td>\n",
       "      <td>كتاب المثل السائر لابن الأثير الكاتب ه م من أه...</td>\n",
       "      <td>المثل السائر لابن الأثيرالمثل السائر لابن الاث...</td>\n",
       "      <td>المثل السائر لابن الأثيرالمثل السائر لابن الاث...</td>\n",
       "      <td>كتاب المثل السائر لابن الأثير الكاتب أهم المؤل...</td>\n",
       "    </tr>\n",
       "    <tr>\n",
       "      <th>2</th>\n",
       "      <td>165</td>\n",
       "      <td>أساتذته</td>\n",
       "      <td>هو أبو العباس عبد الله بن المعتز بن المتوكل بن...</td>\n",
       "      <td>أساتذتهابن المعتزهو أبو العباس عبد الله بن الم...</td>\n",
       "      <td>أساتذتهابن المعتزهو العباس عبد الله بن المعتز ...</td>\n",
       "      <td>العباس عبد الله بن المعتز بن المتوكل بن المعتص...</td>\n",
       "    </tr>\n",
       "    <tr>\n",
       "      <th>3</th>\n",
       "      <td>172</td>\n",
       "      <td>ابن طَباطَبا (ت 322هـ)</td>\n",
       "      <td>هو محمد بن أحمد بن محمد بن أحمد بن إسماعيل بن ...</td>\n",
       "      <td>ابن طباطبا ت هابن طباطبا ت ههو محمد بن أحمد بن...</td>\n",
       "      <td>ابن طباطبا هابن طباطبا ههو محمد بن أحمد بن محم...</td>\n",
       "      <td>محمد بن أحمد بن محمد بن أحمد بن إسماعيل بن إبر...</td>\n",
       "    </tr>\n",
       "    <tr>\n",
       "      <th>4</th>\n",
       "      <td>178</td>\n",
       "      <td>ابن الأثير</td>\n",
       "      <td>أبو الفتح نصر الله ضياء الدين بن أبي الكرم محم...</td>\n",
       "      <td>ابن الأثيرابن الاثيرأبو الفتح نصر الله ضياء ال...</td>\n",
       "      <td>ابن الأثيرابن الاثيرأبو الفتح نصر الله ضياء ال...</td>\n",
       "      <td>الفتح نصر الله ضياء الدين بن أبي الكرم محمد بن...</td>\n",
       "    </tr>\n",
       "  </tbody>\n",
       "</table>\n",
       "</div>"
      ],
      "text/plain": [
       "   ArticleId                 ArabicTitle  \\\n",
       "0        154     كتاب البديع لابن المعتز   \n",
       "1        159  المَثَل السائر لابن الأثير   \n",
       "2        165                     أساتذته   \n",
       "3        172      ابن طَباطَبا (ت 322هـ)   \n",
       "4        178                  ابن الأثير   \n",
       "\n",
       "                                               Intro  \\\n",
       "0  كتاب البديع لعبد الله بن المعتز هم هم  ويقع في...   \n",
       "1  كتاب المثل السائر لابن الأثير الكاتب ه م من أه...   \n",
       "2  هو أبو العباس عبد الله بن المعتز بن المتوكل بن...   \n",
       "3  هو محمد بن أحمد بن محمد بن أحمد بن إسماعيل بن ...   \n",
       "4  أبو الفتح نصر الله ضياء الدين بن أبي الكرم محم...   \n",
       "\n",
       "                                                Body  \\\n",
       "0  كتاب البديع لابن المعتزكتاب البديع لابن المعتز...   \n",
       "1  المثل السائر لابن الأثيرالمثل السائر لابن الاث...   \n",
       "2  أساتذتهابن المعتزهو أبو العباس عبد الله بن الم...   \n",
       "3  ابن طباطبا ت هابن طباطبا ت ههو محمد بن أحمد بن...   \n",
       "4  ابن الأثيرابن الاثيرأبو الفتح نصر الله ضياء ال...   \n",
       "\n",
       "                                        cleaned_body  \\\n",
       "0  كتاب البديع لابن المعتزكتاب البديع لابن المعتز...   \n",
       "1  المثل السائر لابن الأثيرالمثل السائر لابن الاث...   \n",
       "2  أساتذتهابن المعتزهو العباس عبد الله بن المعتز ...   \n",
       "3  ابن طباطبا هابن طباطبا ههو محمد بن أحمد بن محم...   \n",
       "4  ابن الأثيرابن الاثيرأبو الفتح نصر الله ضياء ال...   \n",
       "\n",
       "                                       cleaned_intro  \n",
       "0  كتاب البديع لعبد الله بن المعتز ويقع صفحة مذيل...  \n",
       "1  كتاب المثل السائر لابن الأثير الكاتب أهم المؤل...  \n",
       "2  العباس عبد الله بن المعتز بن المتوكل بن المعتص...  \n",
       "3  محمد بن أحمد بن محمد بن أحمد بن إسماعيل بن إبر...  \n",
       "4  الفتح نصر الله ضياء الدين بن أبي الكرم محمد بن...  "
      ]
     },
     "execution_count": 16,
     "metadata": {},
     "output_type": "execute_result"
    }
   ],
   "source": [
    "articles_files.head()"
   ]
  },
  {
   "cell_type": "markdown",
   "metadata": {},
   "source": [
    "    Saving Clean Data in new CSV File"
   ]
  },
  {
   "cell_type": "code",
   "execution_count": 17,
   "metadata": {},
   "outputs": [],
   "source": [
    "#articles_files_cleaned = articles_files.to_csv('/home/elearning/Desktop/Artificial_Intelligence_Code/Plagiarism/articles_cleaned.csv')"
   ]
  },
  {
   "cell_type": "markdown",
   "metadata": {},
   "source": [
    "# Syntax & Semantic Correction"
   ]
  },
  {
   "cell_type": "markdown",
   "metadata": {},
   "source": [
    "## Arabic Corrector"
   ]
  },
  {
   "cell_type": "markdown",
   "metadata": {},
   "source": [
    "    Defining Corrector and trying library"
   ]
  },
  {
   "cell_type": "code",
   "execution_count": 18,
   "metadata": {},
   "outputs": [
    {
     "name": "stdout",
     "output_type": "stream",
     "text": [
      "قراءة التمرد في تشاد أنها تواصل طريقها للعاصمة\n",
      "انتهى حدث آبل المنتظر الإعلان عن مجموعة من المنتجات\n"
     ]
    }
   ],
   "source": [
    "corr = Corrector()\n",
    "\n",
    "sent = ' قواءص  التمذد في تشاد أنها تواضضل طريقها للعاحمة'\n",
    "print(corr.contextual_correct(sent)) \n",
    "\n",
    "sent = 'اتتنتهى حدث آبل المنتظو بالإعلاخ عن مموعة من المنتجات'\n",
    "print(corr.contextual_correct(sent))"
   ]
  },
  {
   "cell_type": "markdown",
   "metadata": {},
   "source": [
    "    Defining Corrector Function for Dataframe"
   ]
  },
  {
   "cell_type": "code",
   "execution_count": 19,
   "metadata": {},
   "outputs": [],
   "source": [
    "def arabic_corrector_for_dataframe(data_frame: pd.DataFrame, column_name: str):\n",
    "\n",
    "    data_frame[column_name] = data_frame[column_name].apply(lambda text: corr.contextual_correct(text))\n",
    "\n",
    "#arabic_corrector_for_dataframe(articles_files, 'Intro')"
   ]
  },
  {
   "cell_type": "markdown",
   "metadata": {},
   "source": [
    "    Defining Corrector Function for Text"
   ]
  },
  {
   "cell_type": "code",
   "execution_count": 20,
   "metadata": {},
   "outputs": [],
   "source": [
    "def arabic_corrector_for_text(text):\n",
    "    \n",
    "    print(corr.contextual_correct(text))"
   ]
  },
  {
   "cell_type": "markdown",
   "metadata": {},
   "source": [
    "## English Corrector"
   ]
  },
  {
   "cell_type": "markdown",
   "metadata": {},
   "source": [
    "### Version 1"
   ]
  },
  {
   "cell_type": "markdown",
   "metadata": {},
   "source": [
    "    Entering text example"
   ]
  },
  {
   "cell_type": "code",
   "execution_count": 21,
   "metadata": {},
   "outputs": [],
   "source": [
    "my_tool = language_tool_python.LanguageTool('en-US')  \n",
    "my_text = \"\"\"LanguageTool provides utility to check grammar and spelling errors. We just have to paste the text here and click the 'Check Text' button. Click the colored phrases for for information on potential errors. or we can use this text too see an some of the issues that LanguageTool can dedect. Whot do someone thinks of grammar checkers? Please not that they are not perfect. Style problems get a blue marker: It is 7 P.M. in the evening. The weather was nice on Monday, 22 November 2021\"\"\"   "
   ]
  },
  {
   "cell_type": "markdown",
   "metadata": {},
   "source": [
    "    Defining Corrector Function for Text"
   ]
  },
  {
   "cell_type": "code",
   "execution_count": 22,
   "metadata": {},
   "outputs": [],
   "source": [
    "def english_text_corrector(tool, text):\n",
    "    \n",
    "    matches = tool.check(text)\n",
    "\n",
    "    #empty lists\n",
    "    Mistakes = [] \n",
    "    Corrections = []  \n",
    "    StartPositions = []  \n",
    "    EndPositions = []  \n",
    "\n",
    "    for rules in matches:\n",
    "        if len(rules.replacements) > 0:  \n",
    "            StartPositions.append(rules.offset)  \n",
    "            EndPositions.append(rules.errorLength + rules.offset)  \n",
    "            Mistakes.append(my_text[rules.offset : rules.errorLength + rules.offset])  \n",
    "            Corrections.append(rules.replacements[0]) \n",
    "\n",
    "    print(\"Mistakes made\")\n",
    "    print (Mistakes)\n",
    "    print (\"\\nRecommended Corrections\")\n",
    "    print(Corrections)\n",
    "    print (\"\\nMistake Starting character number\")\n",
    "    print(StartPositions)\n",
    "    print (\"\\nMistake EndPoint character number\")\n",
    "    print(EndPositions)\n",
    "\n",
    "    mistakes_number = len (Mistakes)\n",
    "\n",
    "    print( \"\\nNumber of mistakes made \" + str(mistakes_number))\n",
    "    #return mistakes_number"
   ]
  },
  {
   "cell_type": "markdown",
   "metadata": {},
   "source": [
    "    Printing Corrector Results"
   ]
  },
  {
   "cell_type": "code",
   "execution_count": 24,
   "metadata": {},
   "outputs": [
    {
     "name": "stdout",
     "output_type": "stream",
     "text": [
      "Mistakes made\n",
      "['for for', 'or', 'too see', 'an', 'dedect', 'Whot', 'not', 'P.M. in the evening']\n",
      "\n",
      "Recommended Corrections\n",
      "['for', 'Or', 'to see', 'a', 'detect', 'Who', 'note', 'P.M.']\n",
      "\n",
      "Mistake Starting character number\n",
      "[165, 206, 230, 238, 282, 290, 341, 414]\n",
      "\n",
      "Mistake EndPoint character number\n",
      "[172, 208, 237, 240, 288, 294, 344, 433]\n",
      "\n",
      "Number of mistakes made 8\n"
     ]
    }
   ],
   "source": [
    "english_text_corrector(my_tool, my_text)"
   ]
  },
  {
   "cell_type": "markdown",
   "metadata": {},
   "source": [
    "# Plagiarism Detection\n",
    "\n",
    "This tool works by Vectorising text and running cosine similarity to compare the level of similarity between students' essays"
   ]
  },
  {
   "cell_type": "code",
   "execution_count": 25,
   "metadata": {},
   "outputs": [],
   "source": [
    "path = './docs'\n",
    "student_files = [os.path.join(path, doc) for doc in os.listdir(path) if\n",
    "                 doc.endswith('.txt')]"
   ]
  },
  {
   "cell_type": "code",
   "execution_count": 26,
   "metadata": {},
   "outputs": [],
   "source": [
    "student_notes = [open(File).read() for File in student_files]\n",
    "\n",
    "vectorize = lambda text: TfidfVectorizer().fit_transform(text).toarray()\n",
    "similarity = lambda doc1, doc2: cosine_similarity([doc1, doc2])\n",
    "\n",
    "vectors = vectorize(student_notes)\n",
    "s_vectors = list(zip(student_files, vectors))"
   ]
  },
  {
   "cell_type": "code",
   "execution_count": 27,
   "metadata": {},
   "outputs": [],
   "source": [
    "# def check_plagiarism():\n",
    "\n",
    "#     plagiarism_results = set()\n",
    "#     global s_vectors\n",
    "\n",
    "#     for student_a, text_vector_a in s_vectors:\n",
    "        \n",
    "#         new_vectors = s_vectors.copy()\n",
    "#         current_index = new_vectors.index((student_a, text_vector_a))\n",
    "#         del new_vectors[current_index]\n",
    "\n",
    "#         for student_b, text_vector_b in new_vectors:\n",
    "\n",
    "#             sim_score = similarity(text_vector_a, text_vector_b)[0][1]\n",
    "#             student_pair = sorted((student_a, student_b))\n",
    "#             score = (student_pair[0].replace(path, ''), student_pair[1].replace(path, ''), sim_score)\n",
    "#             plagiarism_results.add(score)\n",
    "\n",
    "#     return plagiarism_results\n",
    "\n",
    "# for data in check_plagiarism():\n",
    "#     print(data)\n"
   ]
  },
  {
   "cell_type": "code",
   "execution_count": 28,
   "metadata": {},
   "outputs": [
    {
     "data": {
      "text/plain": [
       "{('/student1.txt', '/student2.txt', 0.9998461681558491),\n",
       " ('/student1.txt', '/student3.txt', 0.9781412960576044),\n",
       " ('/student1.txt', '/student4.txt', 0.8545061717430134),\n",
       " ('/student1.txt', '/student5.txt', 0.8478847731467942),\n",
       " ('/student1.txt', '/student6.txt', 0.8981156438822879),\n",
       " ('/student1.txt', '/student6.txt', 0.898115643882288),\n",
       " ('/student1.txt', '/student7.txt', 0.7687564712767716),\n",
       " ('/student2.txt', '/student3.txt', 0.9772091581862569),\n",
       " ('/student2.txt', '/student4.txt', 0.8546828481082853),\n",
       " ('/student2.txt', '/student5.txt', 0.8483698350285741),\n",
       " ('/student2.txt', '/student6.txt', 0.8978243246628719),\n",
       " ('/student2.txt', '/student7.txt', 0.7617673199367186),\n",
       " ('/student2.txt', '/student7.txt', 0.7617673199367188),\n",
       " ('/student3.txt', '/student4.txt', 0.8497815302431857),\n",
       " ('/student3.txt', '/student5.txt', 0.8385451618193595),\n",
       " ('/student3.txt', '/student6.txt', 0.9034976415729802),\n",
       " ('/student3.txt', '/student6.txt', 0.9034976415729803),\n",
       " ('/student3.txt', '/student7.txt', 0.7514183288139828),\n",
       " ('/student4.txt', '/student5.txt', 0.9953611438843287),\n",
       " ('/student4.txt', '/student6.txt', 0.8913957252457168),\n",
       " ('/student4.txt', '/student6.txt', 0.8913957252457169),\n",
       " ('/student4.txt', '/student7.txt', 0.59315135327294),\n",
       " ('/student5.txt', '/student6.txt', 0.8744990083181308),\n",
       " ('/student5.txt', '/student7.txt', 0.5756847135185129),\n",
       " ('/student6.txt', '/student7.txt', 0.6628151968413658)}"
      ]
     },
     "execution_count": 28,
     "metadata": {},
     "output_type": "execute_result"
    }
   ],
   "source": [
    "import pysimilar\n",
    "from pysimilar import compare\n",
    "\n",
    "def check_plagiarism1():\n",
    "\n",
    "    plagiarism_results = set()\n",
    "    global s_vectors\n",
    "\n",
    "    for student_a, text_vector_a in s_vectors:\n",
    "        \n",
    "        new_vectors = s_vectors.copy()\n",
    "        current_index = new_vectors.index((student_a, text_vector_a))\n",
    "        del new_vectors[current_index]\n",
    "\n",
    "        for student_b, text_vector_b in new_vectors:\n",
    "\n",
    "            sim_score = compare(student_a,student_b,isfile=True)\n",
    "            student_pair = sorted((student_a, student_b))\n",
    "            score = (student_pair[0].replace(path, ''), student_pair[1].replace(path, ''), sim_score)\n",
    "            plagiarism_results.add(score)\n",
    " \n",
    "    return plagiarism_results\n",
    "  \n",
    "check_plagiarism1()"
   ]
  },
  {
   "cell_type": "code",
   "execution_count": null,
   "metadata": {},
   "outputs": [],
   "source": []
  }
 ],
 "metadata": {
  "kernelspec": {
   "display_name": "Python 3.10.4 64-bit",
   "language": "python",
   "name": "python3"
  },
  "language_info": {
   "codemirror_mode": {
    "name": "ipython",
    "version": 3
   },
   "file_extension": ".py",
   "mimetype": "text/x-python",
   "name": "python",
   "nbconvert_exporter": "python",
   "pygments_lexer": "ipython3",
   "version": "3.10.6"
  },
  "orig_nbformat": 4,
  "vscode": {
   "interpreter": {
    "hash": "916dbcbb3f70747c44a77c7bcd40155683ae19c65e1c03b4aa3499c5328201f1"
   }
  }
 },
 "nbformat": 4,
 "nbformat_minor": 2
}
